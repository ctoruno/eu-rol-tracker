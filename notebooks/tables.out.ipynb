{
 "cells": [
  {
   "cell_type": "markdown",
   "metadata": {},
   "source": [
    "# Tables"
   ],
   "id": "0851bcb1-0002-46ac-bf1e-451af699fd1a"
  },
  {
   "cell_type": "markdown",
   "metadata": {},
   "source": [],
   "id": "cell-1"
  },
  {
   "cell_type": "code",
   "execution_count": 1,
   "metadata": {},
   "outputs": [],
   "source": [
    "import pandas as pd\n",
    "import os"
   ],
   "id": "cell-2"
  },
  {
   "cell_type": "code",
   "execution_count": 4,
   "metadata": {},
   "outputs": [],
   "source": [
    "path2SP = \"/Users/ctoruno/OneDrive - World Justice Project/EU Subnational/EU-S Data/Automated Qualitative Checks/Data\"\n",
    "\n",
    "eu_member_states = [\n",
    "    \"Austria\",\"Belgium\",\"Bulgaria\",\"Croatia\",\"Cyprus\",\"Czechia\",\"Denmark\",\"Estonia\",\n",
    "    \"Finland\",\"France\",\"Germany\",\"Greece\",\"Hungary\",\"Ireland\",\"Italy\",\"Latvia\",\n",
    "    \"Lithuania\",\"Luxembourg\",\"Malta\",\"Netherlands\",\"Poland\",\"Portugal\",\"Romania\",\"Slovakia\",\n",
    "    \"Slovenia\",\"Spain\",\"Sweden\"\n",
    "]\n"
   ],
   "id": "cell-3"
  },
  {
   "cell_type": "markdown",
   "metadata": {},
   "source": [
    "### Table 1: Extracted Data"
   ],
   "id": "cell-4"
  },
  {
   "cell_type": "code",
   "execution_count": 3,
   "metadata": {},
   "outputs": [],
   "source": [
    "data_tbl01 = {\n",
    "    \"Country\": [\"Austria\", \"Belgium\", \"Bulgaria\", \"Croatia\", \"Cyprus\", \"Czechia\", \"Denmark\", \"Estonia\", \"Finland\", \"France\", \n",
    "                \"Germany\", \"Greece\", \"Hungary\", \"Ireland\", \"Italy\", \"Latvia\", \"Lithuania\", \"Luxembourg\", \"Malta\", \n",
    "                \"Netherlands\", \"Poland\", \"Portugal\", \"Romania\", \"Slovakia\", \"Slovenia\", \"Spain\", \"Sweden\"],\n",
    "    \"Total News Extracted\": [46145, 21287, 38118, 37068, 34955, 41415, 11312, 12370, 6647, 64527, \n",
    "                             45321, 49504, 18111, 48409, 93858, 5487, 14396, 7894, 10842, \n",
    "                             23935, 21434, 29624, 33264, 34874, 10211, 112820, 6417],\n",
    "    \"Date Range\": [\"Mar 06, 2023 - Mar 07, 2024\", \"Jun 07, 2023 - Mar 07, 2024\", \"Jul 07, 2023 - Mar 07, 2024\",\n",
    "                   \"Jul 07, 2023 - Mar 07, 2024\", \"Jul 07, 2023 - Mar 08, 2024\", \"Jul 07, 2023 - Mar 08, 2024\",\n",
    "                   \"Aug 07, 2023 - Mar 07, 2024\", \"Aug 08, 2023 - Mar 07, 2024\", \"Aug 08, 2023 - Mar 07, 2024\",\n",
    "                   \"Aug 07, 2023 - Mar 07, 2024\", \"Jan 08, 2024 - Mar 07, 2024\", \"Aug 08, 2023 - Mar 07, 2024\",\n",
    "                   \"Aug 08, 2023 - Mar 07, 2024\", \"Aug 08, 2023 - Mar 07, 2024\", \"Aug 08, 2023 - Mar 07, 2024\",\n",
    "                   \"Aug 09, 2023 - Mar 07, 2024\", \"Aug 08, 2023 - Mar 07, 2024\", \"Aug 08, 2023 - Mar 07, 2024\",\n",
    "                   \"Aug 08, 2023 - Mar 07, 2024\", \"Aug 08, 2023 - Mar 07, 2024\", \"Aug 08, 2023 - Mar 07, 2024\",\n",
    "                   \"Aug 08, 2023 - Mar 07, 2024\", \"Aug 08, 2023 - Mar 07, 2024\", \"Aug 08, 2023 - Mar 07, 2024\",\n",
    "                   \"Aug 08, 2023 - Mar 07, 2024\", \"Aug 08, 2023 - Mar 07, 2024\", \"Jan 08, 2024 - Mar 07, 2024\"]\n",
    "}\n",
    "\n",
    "tbl01 = pd.DataFrame(data_tbl01)\n",
    "total_row = pd.DataFrame([[\"Total\", sum(data_tbl01[\"Total News Extracted\"]), \"\"]], columns=tbl01.columns)\n",
    "tbl01_total = pd.concat([tbl01, total_row], ignore_index=True)"
   ],
   "id": "cell-5"
  },
  {
   "cell_type": "code",
   "execution_count": 4,
   "metadata": {},
   "outputs": [],
   "source": [
    "tbl01_total.style.hide(axis=\"index\").format({\n",
    "    'Total News Extracted': '{:,.0f}'\n",
    "})"
   ],
   "id": "98d4d5d2-20f5-40c2-8018-07256e08a1f8"
  },
  {
   "cell_type": "markdown",
   "metadata": {},
   "source": [
    "### Table 2: Failed Translation"
   ],
   "id": "cell-7"
  },
  {
   "cell_type": "code",
   "execution_count": 5,
   "metadata": {},
   "outputs": [],
   "source": [
    "path2exdata = f\"{path2SP}/data-extraction-1/data4translation\"\n",
    "extracted_data = [pd.read_parquet(f\"{path2exdata}/{country}_tp.parquet.gzip\") for country in eu_member_states]\n",
    "exdata = pd.concat(extracted_data)"
   ],
   "id": "cell-8"
  },
  {
   "cell_type": "code",
   "execution_count": 24,
   "metadata": {},
   "outputs": [],
   "source": [
    "path2trdata = f\"{path2SP}/data-extraction-1/ready4class\"\n",
    "files = os.listdir(path2trdata)\n",
    "translated_data = [pd.read_parquet(f\"{path2trdata}/{x}\") for x in files]\n",
    "trdata = pd.concat(translated_data)"
   ],
   "id": "cell-9"
  },
  {
   "cell_type": "code",
   "execution_count": 45,
   "metadata": {},
   "outputs": [],
   "source": [
    "tbl02 = (\n",
    "    exdata.country.value_counts().reset_index().sort_values(\"country\")\n",
    "    .merge(\n",
    "        trdata.country.value_counts().reset_index(), \n",
    "        how = \"left\", \n",
    "        on  = \"country\"\n",
    "    )\n",
    "    .assign(\n",
    "        success = lambda df: (1-((df['count_x'] - df['count_y']) / df['count_x']))*100\n",
    "    )\n",
    "    .rename(\n",
    "        columns = {\n",
    "            \"country\": \"Country\",\n",
    "            \"count_x\": \"Extracted News (n)\",\n",
    "            \"count_y\": \"Translated News (n)\",\n",
    "            \"success\": \"Translated News (%)\"\n",
    "        },\n",
    "        # inplace = True\n",
    "    )\n",
    ")\n",
    "\n",
    "total_row = pd.DataFrame(\n",
    "    [[\n",
    "        \"European Union\", \n",
    "        tbl02[\"Extracted News (n)\"].sum(),\n",
    "        tbl02[\"Translated News (n)\"].sum(),\n",
    "        tbl02[\"Translated News (%)\"].mean(),\n",
    "    ]], \n",
    "    columns=tbl02.columns\n",
    ")\n",
    "tbl02_total = pd.concat([tbl02, total_row], ignore_index=True)\n",
    "\n",
    "tbl02_total.style.hide(axis=\"index\").format({\n",
    "    \"Extracted News (n)\": \"{:,.0f}\",\n",
    "    \"Translated News (n)\": \"{:,.0f}\",\n",
    "    \"Translated News (%)\": \"{:,.1f}\"\n",
    "})"
   ],
   "id": "8a076a38-6fbc-4e1d-8446-7dd5f1d36fe0"
  },
  {
   "cell_type": "markdown",
   "metadata": {},
   "source": [
    "### Table 3: First Stage Classification"
   ],
   "id": "cell-11"
  },
  {
   "cell_type": "code",
   "execution_count": 5,
   "metadata": {},
   "outputs": [],
   "source": [
    "path2cldata = f\"{path2SP}/data-classification-1/0_compiled\"\n",
    "\n",
    "mutate_dict = {\n",
    "    \"Unrelated\"      : 0,\n",
    "    \"Related\"        : 1,\n",
    "    \"Justice\"        : 1,\n",
    "    \"Governance\"     : 1,\n",
    "    \"Rule of Law\"    : 1,\n",
    "    \"Skipped article\": 2\n",
    "}"
   ],
   "id": "cell-12"
  },
  {
   "cell_type": "code",
   "execution_count": 6,
   "metadata": {},
   "outputs": [],
   "source": [
    "cldata = [pd.read_parquet(f\"{path2cldata}/{country}_classified.parquet.gzip\") for country in eu_member_states]\n",
    "cldata_master = pd.concat(cldata)"
   ],
   "id": "cell-13"
  },
  {
   "cell_type": "code",
   "execution_count": 75,
   "metadata": {},
   "outputs": [],
   "source": [
    "data = []\n",
    "for country in eu_member_states:\n",
    "    file = f\"{path2cldata}/{country}_classified.parquet.gzip\"\n",
    "    df = pd.read_parquet(file)\n",
    "    df[\"topic_related\"] = df[\"topic_related\"].str.strip()\n",
    "    df[\"relation\"] = df[\"topic_related\"].replace(mutate_dict)\n",
    "\n",
    "    if country == \"Czechia\":\n",
    "        location_column = \"location_Czech\"\n",
    "    else:\n",
    "        location_column = f\"location_{country}\"\n",
    "\n",
    "    df[\"related_within\"] = df.apply(lambda row: row[location_column] and row[\"relation\"] == 1, axis=1)\n",
    "\n",
    "    total   = len(df)\n",
    "    related = (df.relation.value_counts()[1] / total)*100\n",
    "    within  = (df.related_within.value_counts()[True] / total)*100\n",
    "    within_ = (df.related_within.value_counts()[True])\n",
    "    skipped = (df.relation.value_counts()[2] / total)*100\n",
    "\n",
    "    dict = {\n",
    "        \"Country\": country,\n",
    "        \"Related (%)\" : related,\n",
    "        \"Related - Within (%)\": within,\n",
    "        \"Related - Within (n)\": within_,\n",
    "        \"Unclassified (%)\": skipped\n",
    "    }\n",
    "\n",
    "    data.append(dict)"
   ],
   "id": "cell-14"
  },
  {
   "cell_type": "code",
   "execution_count": 84,
   "metadata": {},
   "outputs": [],
   "source": [
    "tbl03 = pd.DataFrame(data)\n",
    "total_row = pd.DataFrame(\n",
    "    [[\n",
    "        \"European Union\", \n",
    "        tbl02[\"Related (%)\"].mean(),\n",
    "        tbl02[\"Related - Within (%)\"].mean(),\n",
    "        tbl02[\"Related - Within (n)\"].sum(),\n",
    "        tbl02[\"Unclassified (%)\"].mean(),\n",
    "    ]], \n",
    "    columns=tbl03.columns\n",
    ")\n",
    "tbl03_total = pd.concat([tbl03, total_row], ignore_index=True)"
   ],
   "id": "cell-15"
  },
  {
   "cell_type": "code",
   "execution_count": 85,
   "metadata": {},
   "outputs": [],
   "source": [
    "tbl03_total.style.hide(axis=\"index\").format({\n",
    "    \"Related (%)\": \"{:,.1f}\",\n",
    "    \"Related - Within (%)\": \"{:,.1f}\",\n",
    "    \"Related - Within (n)\": \"{:,.0f}\",\n",
    "    \"Unclassified (%)\": \"{:,.1f}\"\n",
    "})"
   ],
   "id": "4853af6d-f6ff-4212-bc87-09578e833d77"
  },
  {
   "cell_type": "markdown",
   "metadata": {},
   "source": [
    "### Table 4: Second Stage Classification"
   ],
   "id": "cell-17"
  },
  {
   "cell_type": "code",
   "execution_count": 27,
   "metadata": {},
   "outputs": [],
   "source": [
    "tbl04_data = (\n",
    "    cldata_master.copy()\n",
    "    .drop_duplicates(subset = \"id\")\n",
    "    .loc[:,[\"country\", \"pillar_1\", \"pillar_2\", \"pillar_3\", \"pillar_4\", \"pillar_5\", \"pillar_6\", \"pillar_7\", \"pillar_8\"]]\n",
    "    .groupby(\"country\")\n",
    "    .agg(\"mean\")\n",
    "    .apply(lambda x: x*100)\n",
    "    .reset_index()\n",
    "    .rename(\n",
    "        columns = {\n",
    "            \"country\" : \"Country\",\n",
    "            \"pillar_1\": \"Pillar 1\",\n",
    "            \"pillar_2\": \"Pillar 2\",\n",
    "            \"pillar_3\": \"Pillar 3\",\n",
    "            \"pillar_4\": \"Pillar 4\",\n",
    "            \"pillar_5\": \"Pillar 5\",\n",
    "            \"pillar_6\": \"Pillar 6\",\n",
    "            \"pillar_7\": \"Pillar 7\",\n",
    "            \"pillar_8\": \"Pillar 8\",\n",
    "        }\n",
    "    )\n",
    ")\n",
    "total_row = pd.DataFrame(\n",
    "    [[\"European Union\"] + tbl04_data.iloc[:, 1:].mean().values.tolist()], \n",
    "    columns=tbl04_data.columns\n",
    ")\n",
    "tbl04_total = pd.concat([tbl04_data, total_row], ignore_index=True)"
   ],
   "id": "cell-18"
  },
  {
   "cell_type": "code",
   "execution_count": 28,
   "metadata": {},
   "outputs": [],
   "source": [
    "tbl04_total.style.hide(axis=\"index\").format(precision=1)"
   ],
   "id": "0c382e81-4ad4-4206-8471-09af822ce80f"
  }
 ],
 "nbformat": 4,
 "nbformat_minor": 5,
 "metadata": {}
}
