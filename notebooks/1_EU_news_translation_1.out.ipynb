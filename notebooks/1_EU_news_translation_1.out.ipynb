{
 "cells": [
  {
   "cell_type": "markdown",
   "metadata": {},
   "source": [
    "# 2. Translation code"
   ],
   "id": "1c68ad29-9984-4f54-8e7c-c75bcbae6717"
  },
  {
   "cell_type": "markdown",
   "metadata": {},
   "source": [],
   "id": "cell-1"
  },
  {
   "cell_type": "code",
   "execution_count": 1,
   "metadata": {},
   "outputs": [
    {
     "output_type": "stream",
     "name": "stderr",
     "text": [
      "[nltk_data] Downloading package punkt to\n",
      "[nltk_data]     C:\\Users\\ctoruno\\AppData\\Roaming\\nltk_data...\n",
      "[nltk_data]   Package punkt is already up-to-date!"
     ]
    },
    {
     "output_type": "display_data",
     "metadata": {},
     "data": {
      "text/plain": [
       "True"
      ]
     }
    }
   ],
   "source": [
    "import os\n",
    "import time\n",
    "import pandas as pd\n",
    "import math\n",
    "import nltk\n",
    "from nltk.tokenize import sent_tokenize\n",
    "from deep_translator import GoogleTranslator\n",
    "nltk.download(\"punkt\")"
   ],
   "id": "cell-2"
  },
  {
   "cell_type": "code",
   "execution_count": 3,
   "metadata": {},
   "outputs": [],
   "source": [
    "country = \"Romania\"\n",
    "path2SP = \".../Data/data-extraction-1\""
   ],
   "id": "cell-3"
  },
  {
   "cell_type": "code",
   "execution_count": 4,
   "metadata": {
    "outputId": "b3f5a9df-2397-4fb9-96cd-1aff2779ba20"
   },
   "outputs": [],
   "source": [
    "master_data = pd.read_parquet(f\"{path2SP}/data4translation/{country}_tp.parquet.gzip\")"
   ],
   "id": "cell-4"
  },
  {
   "cell_type": "code",
   "execution_count": 5,
   "metadata": {
    "outputId": "bb6a3039-d270-4af2-a31d-60a8ebb96489"
   },
   "outputs": [],
   "source": [
    "def trans2english(text, sourcelang):\n",
    "    \"\"\"\n",
    "    This functions gathers a text in a specific language and it returns its equivalent\n",
    "    in English using the Google translation engine.\n",
    "\n",
    "    Parameters:\n",
    "        text:       String. Text to translate.\n",
    "        sourcelang: String. Code of the source language you want to translate the text from.\n",
    "    \"\"\"\n",
    "    if text:\n",
    "      try:\n",
    "          sentences = sent_tokenize(text)\n",
    "          batch  = GoogleTranslator(source = sourcelang, target = \"en\").translate_batch(sentences)\n",
    "          result = \" \".join(batch)\n",
    "          return result\n",
    "      except Exception as e:\n",
    "          out = f\"Translation through API failed. Reason: {e}\"\n",
    "          return out\n",
    "    else:\n",
    "      return \"No information available. No translation performed\""
   ],
   "id": "cell-5"
  },
  {
   "cell_type": "code",
   "execution_count": null,
   "metadata": {},
   "outputs": [],
   "source": [
    "total_batches = math.ceil(len(master_data)/2000)\n",
    "for batch_number in range(0, total_batches):\n",
    "    print(\"======================================================================\")\n",
    "    print(f\"Currently running batch number: {batch_number} out of {total_batches}\")\n",
    "    \n",
    "    mode          = \"overnight\" # One of two values: \"9to5\" OR \"overnight\"\n",
    "    counter_day   = 0\n",
    "    counter_night = batch_number\n",
    "\n",
    "    batch = counter_day + counter_night + 1\n",
    "    if mode == \"9to5\":\n",
    "        batch_size   = 500\n",
    "        mode_counter = counter_day\n",
    "    if mode == \"overnight\":\n",
    "        batch_size   = 2000\n",
    "        mode_counter = counter_night\n",
    "\n",
    "    starting_row = (counter_day*500)+(counter_night*2000)\n",
    "    final_row    = starting_row+batch_size\n",
    "    batch_subset = master_data.copy().iloc[starting_row:final_row]\n",
    "\n",
    "    print(f\"Starting row: {starting_row}\")\n",
    "\n",
    "    batch_subset[[\"title_trans\", \"description_trans\", \"content_trans\"]] = batch_subset.apply(\n",
    "        lambda row: row[[\"title\", \"description\", \"content\"]].apply(lambda x: trans2english(text = x, sourcelang = row[\"language\"])),\n",
    "        axis = 1\n",
    "    )\n",
    "\n",
    "    print(\"Translation completed\")\n",
    "    batch_subset.to_parquet(f\"{path2SP}/translation-batches/{country}/{country}_batch_{batch}_{mode}_{mode_counter}.parquet.gzip\", compression = \"gzip\")\n",
    "\n",
    "    time.sleep(25)"
   ],
   "id": "cell-6"
  }
 ],
 "nbformat": 4,
 "nbformat_minor": 5,
 "metadata": {}
}
